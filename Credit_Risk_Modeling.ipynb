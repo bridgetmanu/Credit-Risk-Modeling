{
  "nbformat": 4,
  "nbformat_minor": 0,
  "metadata": {
    "colab": {
      "provenance": [],
      "authorship_tag": "ABX9TyMpKtG/mzX1JtQcwTbima21",
      "include_colab_link": true
    },
    "kernelspec": {
      "name": "python3",
      "display_name": "Python 3"
    },
    "language_info": {
      "name": "python"
    }
  },
  "cells": [
    {
      "cell_type": "markdown",
      "metadata": {
        "id": "view-in-github",
        "colab_type": "text"
      },
      "source": [
        "<a href=\"https://colab.research.google.com/github/bridgetmanu/Credit-Risk-Modeling/blob/main/Credit_Risk_Modeling.ipynb\" target=\"_parent\"><img src=\"https://colab.research.google.com/assets/colab-badge.svg\" alt=\"Open In Colab\"/></a>"
      ]
    },
    {
      "cell_type": "code",
      "source": [
        "from google.colab import drive\n",
        "drive.mount('/content/drive')\n"
      ],
      "metadata": {
        "id": "kRGRt3hdQb-N"
      },
      "execution_count": null,
      "outputs": []
    },
    {
      "cell_type": "code",
      "execution_count": null,
      "metadata": {
        "id": "bY7ol-MYPP7Q"
      },
      "outputs": [],
      "source": [
        "import pandas as pd # for creating, manipulating, and analyzing data\n",
        "import matplotlib.pyplot as plt # for plotting charts and graphs\n",
        "import seaborn as sns # for creating intricate plots\n",
        "#import sqlite3 # to perform sql queries"
      ]
    },
    {
      "cell_type": "code",
      "source": [
        "data_1 = pd.read.csv('/content/drive/My Drive/accepted_2007_to_2018Q4.csv')\n",
        "\n",
        "data_2 = pd.read.csv('/content/drive/My Drive/rejected_2007_to_2018Q4.csv')\n",
        "\n"
      ],
      "metadata": {
        "id": "m8FHV4etTQpg"
      },
      "execution_count": null,
      "outputs": []
    }
  ]
}